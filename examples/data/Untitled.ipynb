{
 "cells": [
  {
   "cell_type": "code",
   "execution_count": 1,
   "metadata": {},
   "outputs": [],
   "source": [
    "import json\n",
    "import os\n",
    "import numpy as np\n",
    "import networkx as nx"
   ]
  },
  {
   "cell_type": "code",
   "execution_count": null,
   "metadata": {},
   "outputs": [],
   "source": [
    "class PageRank:\n",
    "    def __init__(self, graph, epsilon=10e-3):\n",
    "        self.epsilon = epsilon\n",
    "        self.graph = self.processGraph(graph)\n",
    "        \n",
    "    def processGraph(self, graph):\n",
    "        \n",
    "        "
   ]
  },
  {
   "cell_type": "code",
   "execution_count": null,
   "metadata": {},
   "outputs": [],
   "source": [
    "pr = PageRank()\n",
    "pr."
   ]
  },
  {
   "cell_type": "code",
   "execution_count": 5,
   "metadata": {},
   "outputs": [
    {
     "name": "stdout",
     "output_type": "stream",
     "text": [
      "{'1': {'Value': 5, 'OutgoingEdges': {'10': 14, '14': 2, '15': 19, '17': 1, '18': 17, '4': 16, '7': 12, '8': 5}}, '10': {'Value': 14, 'OutgoingEdges': {'1': 5, '12': 16, '13': 14, '17': 1, '19': 3, '2': 1, '3': 6, '4': 16, '6': 2}}, '11': {'Value': 13, 'OutgoingEdges': {'10': 14, '14': 2, '2': 1, '4': 16}}, '12': {'Value': 16, 'OutgoingEdges': {'1': 5, '17': 1, '18': 17, '2': 1, '4': 16, '6': 2, '7': 12, '9': 0}}, '13': {'Value': 14, 'OutgoingEdges': {'1': 5}}, '14': {'Value': 2, 'OutgoingEdges': {'13': 14, '17': 1, '2': 1, '9': 0}}, '15': {'Value': 19, 'OutgoingEdges': {'1': 5, '16': 0, '3': 6, '7': 12, '8': 5}}, '16': {'Value': 0, 'OutgoingEdges': {'1': 5}}, '17': {'Value': 1, 'OutgoingEdges': {'1': 5, '10': 14, '11': 13, '12': 16, '15': 19, '16': 0, '17': 1, '18': 17, '2': 1, '6': 2, '8': 5, '9': 0}}, '18': {'Value': 17, 'OutgoingEdges': {'11': 13, '13': 14, '15': 19, '17': 1, '18': 17, '19': 3, '2': 1, '3': 6, '5': 1, '7': 12}}, '19': {'Value': 3, 'OutgoingEdges': {'11': 13, '12': 16, '13': 14, '14': 2, '15': 19, '16': 0, '17': 1, '18': 17, '19': 3, '4': 16, '5': 1, '6': 2, '8': 5}}, '2': {'Value': 1, 'OutgoingEdges': {'11': 13, '12': 16, '13': 14, '19': 3, '7': 12, '8': 5}}, '20': {'Value': 12, 'OutgoingEdges': {'10': 14, '12': 16, '14': 2, '15': 19, '17': 1, '19': 3, '2': 1, '6': 2, '8': 5}}, '3': {'Value': 6, 'OutgoingEdges': {'1': 5, '10': 14, '11': 13, '17': 1, '5': 1}}, '4': {'Value': 16, 'OutgoingEdges': {'1': 5, '10': 14, '12': 16, '14': 2, '15': 19, '16': 0, '17': 1, '19': 3, '3': 6, '5': 1, '6': 2, '9': 0}}, '5': {'Value': 1, 'OutgoingEdges': {'11': 13, '12': 16, '16': 0, '2': 1, '5': 1}}, '6': {'Value': 2, 'OutgoingEdges': {'1': 5, '10': 14, '11': 13, '12': 16, '13': 14, '14': 2, '17': 1, '4': 16, '5': 1, '7': 12}}, '7': {'Value': 12, 'OutgoingEdges': {'11': 13, '12': 16, '15': 19, '19': 3, '2': 1, '5': 1, '8': 5}}, '8': {'Value': 5, 'OutgoingEdges': {'18': 17, '19': 3}}, '9': {'Value': 0, 'OutgoingEdges': {'10': 14, '14': 2, '2': 1, '3': 6, '4': 16, '5': 1, '6': 2, '9': 0}}}\n"
     ]
    }
   ],
   "source": [
    "G = nx.Graph()\n",
    "\n",
    "graphProblem = os.getcwd() + '/prob/randM20.json'\n",
    "\n",
    "with open(graphProblem, 'r+') as f:\n",
    "    graphProblem = json.loads(f.read())\n",
    "    \n",
    "print(graphProblem)"
   ]
  },
  {
   "cell_type": "code",
   "execution_count": null,
   "metadata": {},
   "outputs": [],
   "source": [
    "for k,v in graphProblem.items():\n",
    "    g.add_node(k)\n",
    "    for m,n in v.items():\n",
    "        g.add_edges(k, m)"
   ]
  }
 ],
 "metadata": {
  "kernelspec": {
   "display_name": "Python 3",
   "language": "python",
   "name": "python3"
  },
  "language_info": {
   "codemirror_mode": {
    "name": "ipython",
    "version": 3
   },
   "file_extension": ".py",
   "mimetype": "text/x-python",
   "name": "python",
   "nbconvert_exporter": "python",
   "pygments_lexer": "ipython3",
   "version": "3.6.7"
  }
 },
 "nbformat": 4,
 "nbformat_minor": 4
}
