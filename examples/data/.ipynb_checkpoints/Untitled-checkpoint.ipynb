{
 "cells": [
  {
   "cell_type": "code",
   "execution_count": 1,
   "metadata": {},
   "outputs": [],
   "source": [
    "import json\n",
    "import os\n",
    "import numpy as np\n",
    "import networkx as nx"
   ]
  },
  {
   "cell_type": "code",
   "execution_count": null,
   "metadata": {},
   "outputs": [],
   "source": [
    "class PageRank:\n",
    "    def __init__(self, graph, epsilon=10e-3):\n",
    "        self.epsilon = epsilon\n",
    "        self.graph = self.processGraph(graph)\n",
    "        \n",
    "    def processGraph(self, graph):\n",
    "        \n",
    "        "
   ]
  },
  {
   "cell_type": "code",
   "execution_count": null,
   "metadata": {},
   "outputs": [],
   "source": [
    "pr = PageRank()\n",
    "pr."
   ]
  },
  {
   "cell_type": "code",
   "execution_count": 2,
   "metadata": {},
   "outputs": [
    {
     "name": "stdout",
     "output_type": "stream",
     "text": [
      "{'1': {'Value': 7, 'OutgoingEdges': {'1': 14, '10': 7, '11': 15, '12': 3, '13': 6, '14': 17, '15': 4, '16': 7, '17': 1, '18': 9, '2': 14, '3': 0, '4': 5, '5': 19, '6': 9, '7': 9, '8': 8, '9': 16}}, '10': {'Value': 13, 'OutgoingEdges': {'1': 9, '10': 18, '11': 15, '12': 3, '2': 6, '3': 9, '4': 12, '5': 10, '6': 10, '7': 2, '8': 9, '9': 10}}, '11': {'Value': 0, 'OutgoingEdges': {'1': 8, '2': 19, '3': 11, '4': 6, '5': 16, '6': 17, '7': 4, '8': 10}}, '12': {'Value': 9, 'OutgoingEdges': {'1': 9, '2': 18, '3': 14, '4': 6, '5': 4, '6': 18}}, '13': {'Value': 13, 'OutgoingEdges': {'1': 17, '2': 17, '3': 7, '4': 2, '5': 15, '6': 9, '7': 14, '8': 13}}, '14': {'Value': 1, 'OutgoingEdges': {'1': 19, '2': 3, '3': 12, '4': 11, '5': 19}}, '15': {'Value': 4, 'OutgoingEdges': {'1': 19, '10': 9, '11': 15, '12': 3, '13': 3, '14': 12, '15': 14, '16': 0, '17': 7, '2': 3, '3': 11, '4': 10, '5': 13, '6': 17, '7': 9, '8': 0, '9': 6}}, '16': {'Value': 3, 'OutgoingEdges': {'1': 19, '2': 16, '3': 13, '4': 5, '5': 8, '6': 13, '7': 18, '8': 3, '9': 2}}, '17': {'Value': 17, 'OutgoingEdges': {'1': 17, '2': 11, '3': 7, '4': 1, '5': 10}}, '18': {'Value': 3, 'OutgoingEdges': {'1': 17, '10': 9, '11': 2, '12': 7, '13': 0, '14': 15, '15': 17, '16': 8, '17': 2, '2': 6, '3': 17, '4': 8, '5': 6, '6': 17, '7': 5, '8': 2, '9': 19}}, '19': {'Value': 1, 'OutgoingEdges': {'1': 11}}, '2': {'Value': 17, 'OutgoingEdges': {'1': 7, '10': 6, '11': 9, '12': 4, '2': 1, '3': 6, '4': 16, '5': 19, '6': 13, '7': 9, '8': 3, '9': 0}}, '20': {'Value': 9, 'OutgoingEdges': {'1': 0, '10': 17, '11': 15, '12': 16, '13': 11, '14': 8, '15': 1, '16': 8, '17': 15, '18': 16, '2': 13, '3': 10, '4': 2, '5': 8, '6': 9, '7': 18, '8': 0, '9': 6}}, '3': {'Value': 10, 'OutgoingEdges': {'1': 14, '2': 11, '3': 7}}, '4': {'Value': 19, 'OutgoingEdges': {'1': 10, '2': 1}}, '5': {'Value': 14, 'OutgoingEdges': {'1': 18}}, '6': {'Value': 8, 'OutgoingEdges': {'1': 10, '10': 17, '11': 2, '12': 18, '13': 19, '14': 11, '15': 14, '16': 2, '17': 3, '18': 12, '19': 14, '2': 6, '3': 5, '4': 3, '5': 13, '6': 11, '7': 11, '8': 9, '9': 12}}, '7': {'Value': 5, 'OutgoingEdges': {'1': 15, '10': 9, '11': 18, '12': 2, '13': 17, '14': 19, '15': 12, '16': 7, '17': 0, '18': 4, '2': 19, '3': 6, '4': 14, '5': 3, '6': 17, '7': 11, '8': 10, '9': 14}}, '8': {'Value': 15, 'OutgoingEdges': {'1': 19, '10': 1, '2': 14, '3': 17, '4': 2, '5': 15, '6': 0, '7': 19, '8': 3, '9': 5}}, '9': {'Value': 17, 'OutgoingEdges': {'1': 7, '2': 15, '3': 6, '4': 9}}}\n"
     ]
    }
   ],
   "source": [
    "G = nx.Graph()\n",
    "\n",
    "graphProblem = os.getcwd() + '/prob/randM20.json'\n",
    "\n",
    "with open(graphProblem, 'r+') as f:\n",
    "    graphProblem = json.loads(f.read())\n",
    "    \n",
    "print(graphProblem)"
   ]
  },
  {
   "cell_type": "code",
   "execution_count": null,
   "metadata": {},
   "outputs": [],
   "source": [
    "for k,v in graphProblem.items():\n",
    "    g.add_node(k)\n",
    "    for m,n in v.items():\n",
    "        g.add_edges(k, m)"
   ]
  }
 ],
 "metadata": {
  "kernelspec": {
   "display_name": "Python 3",
   "language": "python",
   "name": "python3"
  },
  "language_info": {
   "codemirror_mode": {
    "name": "ipython",
    "version": 3
   },
   "file_extension": ".py",
   "mimetype": "text/x-python",
   "name": "python",
   "nbconvert_exporter": "python",
   "pygments_lexer": "ipython3",
   "version": "3.6.7"
  }
 },
 "nbformat": 4,
 "nbformat_minor": 4
}
