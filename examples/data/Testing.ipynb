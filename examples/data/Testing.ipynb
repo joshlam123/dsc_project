{
 "cells": [
  {
   "cell_type": "code",
   "execution_count": 1,
   "metadata": {},
   "outputs": [],
   "source": [
    "import json\n",
    "import os\n",
    "import numpy as np\n",
    "import networkx as nx"
   ]
  },
  {
   "cell_type": "code",
   "execution_count": 42,
   "metadata": {},
   "outputs": [],
   "source": [
    "class PageRank:\n",
    "    def __init__(self, epsilon=10e-3):\n",
    "        self.epsilon = epsilon\n",
    "        \n",
    "    def makeGraphProcess(self, fileName):\n",
    "        self.openGraph(fileName)\n",
    "        \n",
    "    def openGraph(self, fileName:str):\n",
    "        graphProblem = os.getcwd() + f'/prob/{fileName}.json'\n",
    "\n",
    "        with open(graphProblem, 'r+') as f:\n",
    "            graphProblem = json.loads(f.read())\n",
    "            \n",
    "        self.graph = self.processGraph(graphProblem)\n",
    "        \n",
    "    def processGraph(self, graph):\n",
    "        G = nx.Graph()\n",
    "        for k,v in graphProblem.items():\n",
    "            G.add_node(k, value=v['Value'], outgoingEdges=v['OutgoingEdges'])\n",
    "            for x,y in v['OutgoingEdges'].items():\n",
    "                G.add_edge(k, x)\n",
    "        return G\n",
    "    \n",
    "    def pageRankAlgorithm(self, alpha=0.85):\n",
    "        err = 0 \n",
    "        dangling_nodes = [n for n in self.graph if self.graph.out_degree(n, weight=weight) == 0.0]\n",
    "        while err >= self.epsilon:\n",
    "            previous = self.graph\n",
    "            r = dict.fromkeys(previous.keys(), 0) \n",
    "            \n",
    "            danglesum = alpha * sum(previous[n] for n in dangling_nodes) \n",
    "            \n",
    "            for vertex in  r: \n",
    "                r[vertex] = 0.15 + alpha * sum([])\n",
    "                M[i] = R[i]/\n",
    "                SendM[i] to all N_out(i)\n",
    "            err=abs(r[n]−previous[n])"
   ]
  },
  {
   "cell_type": "code",
   "execution_count": 44,
   "metadata": {},
   "outputs": [
    {
     "data": {
      "text/plain": [
       "EdgeView([('1', '10'), ('1', '14'), ('1', '15'), ('1', '17'), ('1', '18'), ('1', '4'), ('1', '7'), ('1', '8'), ('1', '12'), ('1', '13'), ('1', '16'), ('1', '3'), ('1', '6'), ('10', '12'), ('10', '13'), ('10', '17'), ('10', '19'), ('10', '2'), ('10', '3'), ('10', '4'), ('10', '6'), ('10', '11'), ('10', '20'), ('10', '9'), ('14', '11'), ('14', '13'), ('14', '17'), ('14', '2'), ('14', '9'), ('14', '19'), ('14', '20'), ('14', '4'), ('14', '6'), ('15', '16'), ('15', '3'), ('15', '7'), ('15', '8'), ('15', '17'), ('15', '18'), ('15', '19'), ('15', '20'), ('15', '4'), ('17', '12'), ('17', '11'), ('17', '16'), ('17', '17'), ('17', '18'), ('17', '2'), ('17', '6'), ('17', '8'), ('17', '9'), ('17', '19'), ('17', '20'), ('17', '3'), ('17', '4'), ('18', '12'), ('18', '11'), ('18', '13'), ('18', '18'), ('18', '19'), ('18', '2'), ('18', '3'), ('18', '5'), ('18', '7'), ('18', '8'), ('4', '11'), ('4', '12'), ('4', '19'), ('4', '16'), ('4', '3'), ('4', '5'), ('4', '6'), ('4', '9'), ('7', '12'), ('7', '2'), ('7', '6'), ('7', '11'), ('7', '19'), ('7', '5'), ('7', '8'), ('8', '19'), ('8', '2'), ('8', '20'), ('12', '2'), ('12', '6'), ('12', '9'), ('12', '19'), ('12', '20'), ('12', '5'), ('13', '19'), ('13', '2'), ('13', '6'), ('19', '11'), ('19', '16'), ('19', '19'), ('19', '5'), ('19', '6'), ('19', '2'), ('19', '20'), ('2', '11'), ('2', '20'), ('2', '5'), ('2', '9'), ('3', '11'), ('3', '5'), ('3', '9'), ('6', '20'), ('6', '11'), ('6', '5'), ('6', '9'), ('11', '5'), ('9', '5'), ('9', '9'), ('16', '5'), ('5', '5')])"
      ]
     },
     "execution_count": 44,
     "metadata": {},
     "output_type": "execute_result"
    }
   ],
   "source": [
    "pr = PageRank()\n",
    "pr.makeGraphProcess('randM20')\n",
    "pr.graph.edges"
   ]
  },
  {
   "cell_type": "code",
   "execution_count": 29,
   "metadata": {},
   "outputs": [
    {
     "name": "stdout",
     "output_type": "stream",
     "text": [
      "{'1': {'Value': 5, 'OutgoingEdges': {'10': 14, '14': 2, '15': 19, '17': 1, '18': 17, '4': 16, '7': 12, '8': 5}}, '10': {'Value': 14, 'OutgoingEdges': {'1': 5, '12': 16, '13': 14, '17': 1, '19': 3, '2': 1, '3': 6, '4': 16, '6': 2}}, '11': {'Value': 13, 'OutgoingEdges': {'10': 14, '14': 2, '2': 1, '4': 16}}, '12': {'Value': 16, 'OutgoingEdges': {'1': 5, '17': 1, '18': 17, '2': 1, '4': 16, '6': 2, '7': 12, '9': 0}}, '13': {'Value': 14, 'OutgoingEdges': {'1': 5}}, '14': {'Value': 2, 'OutgoingEdges': {'13': 14, '17': 1, '2': 1, '9': 0}}, '15': {'Value': 19, 'OutgoingEdges': {'1': 5, '16': 0, '3': 6, '7': 12, '8': 5}}, '16': {'Value': 0, 'OutgoingEdges': {'1': 5}}, '17': {'Value': 1, 'OutgoingEdges': {'1': 5, '10': 14, '11': 13, '12': 16, '15': 19, '16': 0, '17': 1, '18': 17, '2': 1, '6': 2, '8': 5, '9': 0}}, '18': {'Value': 17, 'OutgoingEdges': {'11': 13, '13': 14, '15': 19, '17': 1, '18': 17, '19': 3, '2': 1, '3': 6, '5': 1, '7': 12}}, '19': {'Value': 3, 'OutgoingEdges': {'11': 13, '12': 16, '13': 14, '14': 2, '15': 19, '16': 0, '17': 1, '18': 17, '19': 3, '4': 16, '5': 1, '6': 2, '8': 5}}, '2': {'Value': 1, 'OutgoingEdges': {'11': 13, '12': 16, '13': 14, '19': 3, '7': 12, '8': 5}}, '20': {'Value': 12, 'OutgoingEdges': {'10': 14, '12': 16, '14': 2, '15': 19, '17': 1, '19': 3, '2': 1, '6': 2, '8': 5}}, '3': {'Value': 6, 'OutgoingEdges': {'1': 5, '10': 14, '11': 13, '17': 1, '5': 1}}, '4': {'Value': 16, 'OutgoingEdges': {'1': 5, '10': 14, '12': 16, '14': 2, '15': 19, '16': 0, '17': 1, '19': 3, '3': 6, '5': 1, '6': 2, '9': 0}}, '5': {'Value': 1, 'OutgoingEdges': {'11': 13, '12': 16, '16': 0, '2': 1, '5': 1}}, '6': {'Value': 2, 'OutgoingEdges': {'1': 5, '10': 14, '11': 13, '12': 16, '13': 14, '14': 2, '17': 1, '4': 16, '5': 1, '7': 12}}, '7': {'Value': 12, 'OutgoingEdges': {'11': 13, '12': 16, '15': 19, '19': 3, '2': 1, '5': 1, '8': 5}}, '8': {'Value': 5, 'OutgoingEdges': {'18': 17, '19': 3}}, '9': {'Value': 0, 'OutgoingEdges': {'10': 14, '14': 2, '2': 1, '3': 6, '4': 16, '5': 1, '6': 2, '9': 0}}}\n"
     ]
    }
   ],
   "source": [
    "G = nx.Graph()\n",
    "graphProblem = os.getcwd() + '/prob/randM20.json'\n",
    "\n",
    "with open(graphProblem, 'r+') as f:\n",
    "    graphProblem = json.loads(f.read())\n",
    "\n",
    "print(graphProblem)"
   ]
  },
  {
   "cell_type": "code",
   "execution_count": 33,
   "metadata": {},
   "outputs": [
    {
     "data": {
      "text/plain": [
       "EdgeView([('1', '10'), ('1', '14'), ('1', '15'), ('1', '17'), ('1', '18'), ('1', '4'), ('1', '7'), ('1', '8'), ('1', '12'), ('1', '13'), ('1', '16'), ('1', '3'), ('1', '6'), ('10', '12'), ('10', '13'), ('10', '17'), ('10', '19'), ('10', '2'), ('10', '3'), ('10', '4'), ('10', '6'), ('10', '11'), ('10', '20'), ('10', '9'), ('14', '11'), ('14', '13'), ('14', '17'), ('14', '2'), ('14', '9'), ('14', '19'), ('14', '20'), ('14', '4'), ('14', '6'), ('15', '16'), ('15', '3'), ('15', '7'), ('15', '8'), ('15', '17'), ('15', '18'), ('15', '19'), ('15', '20'), ('15', '4'), ('17', '12'), ('17', '11'), ('17', '16'), ('17', '17'), ('17', '18'), ('17', '2'), ('17', '6'), ('17', '8'), ('17', '9'), ('17', '19'), ('17', '20'), ('17', '3'), ('17', '4'), ('18', '12'), ('18', '11'), ('18', '13'), ('18', '18'), ('18', '19'), ('18', '2'), ('18', '3'), ('18', '5'), ('18', '7'), ('18', '8'), ('4', '11'), ('4', '12'), ('4', '19'), ('4', '16'), ('4', '3'), ('4', '5'), ('4', '6'), ('4', '9'), ('7', '12'), ('7', '2'), ('7', '6'), ('7', '11'), ('7', '19'), ('7', '5'), ('7', '8'), ('8', '19'), ('8', '2'), ('8', '20'), ('12', '2'), ('12', '6'), ('12', '9'), ('12', '19'), ('12', '20'), ('12', '5'), ('13', '19'), ('13', '2'), ('13', '6'), ('19', '11'), ('19', '16'), ('19', '19'), ('19', '5'), ('19', '6'), ('19', '2'), ('19', '20'), ('2', '11'), ('2', '20'), ('2', '5'), ('2', '9'), ('3', '11'), ('3', '5'), ('3', '9'), ('6', '20'), ('6', '11'), ('6', '5'), ('6', '9'), ('11', '5'), ('9', '5'), ('9', '9'), ('16', '5'), ('5', '5')])"
      ]
     },
     "execution_count": 33,
     "metadata": {},
     "output_type": "execute_result"
    }
   ],
   "source": [
    "for k,v in graphProblem.items():\n",
    "    G.add_node(k, value=v['Value'], outgoingEdges=v['OutgoingEdges'])\n",
    "    for x,y in v['OutgoingEdges'].items():\n",
    "        G.add_edge(k, x)\n",
    "\n",
    "G.nodes.data()\n",
    "G.edges"
   ]
  },
  {
   "cell_type": "code",
   "execution_count": 35,
   "metadata": {},
   "outputs": [
    {
     "data": {
      "text/plain": [
       "AtlasView({'10': {}, '14': {}, '15': {}, '17': {}, '18': {}, '4': {}, '7': {}, '8': {}, '12': {}, '13': {}, '16': {}, '3': {}, '6': {}})"
      ]
     },
     "execution_count": 35,
     "metadata": {},
     "output_type": "execute_result"
    }
   ],
   "source": [
    "G['1']"
   ]
  },
  {
   "cell_type": "code",
   "execution_count": 49,
   "metadata": {},
   "outputs": [
    {
     "ename": "AttributeError",
     "evalue": "'Graph' object has no attribute 'out_degree'",
     "output_type": "error",
     "traceback": [
      "\u001b[0;31m---------------------------------------------------------------------------\u001b[0m",
      "\u001b[0;31mAttributeError\u001b[0m                            Traceback (most recent call last)",
      "\u001b[0;32m<ipython-input-49-1d179f6bd7be>\u001b[0m in \u001b[0;36m<module>\u001b[0;34m\u001b[0m\n\u001b[0;32m----> 1\u001b[0;31m \u001b[0;34m[\u001b[0m\u001b[0mn\u001b[0m \u001b[0;32mfor\u001b[0m \u001b[0mn\u001b[0m \u001b[0;32min\u001b[0m \u001b[0mG\u001b[0m \u001b[0;32mif\u001b[0m \u001b[0mG\u001b[0m\u001b[0;34m.\u001b[0m\u001b[0mout_degree\u001b[0m\u001b[0;34m(\u001b[0m\u001b[0mn\u001b[0m\u001b[0;34m,\u001b[0m \u001b[0mweight\u001b[0m\u001b[0;34m=\u001b[0m\u001b[0mweight\u001b[0m\u001b[0;34m)\u001b[0m \u001b[0;34m==\u001b[0m \u001b[0;36m0.0\u001b[0m\u001b[0;34m]\u001b[0m\u001b[0;34m\u001b[0m\u001b[0;34m\u001b[0m\u001b[0m\n\u001b[0m",
      "\u001b[0;32m<ipython-input-49-1d179f6bd7be>\u001b[0m in \u001b[0;36m<listcomp>\u001b[0;34m(.0)\u001b[0m\n\u001b[0;32m----> 1\u001b[0;31m \u001b[0;34m[\u001b[0m\u001b[0mn\u001b[0m \u001b[0;32mfor\u001b[0m \u001b[0mn\u001b[0m \u001b[0;32min\u001b[0m \u001b[0mG\u001b[0m \u001b[0;32mif\u001b[0m \u001b[0mG\u001b[0m\u001b[0;34m.\u001b[0m\u001b[0mout_degree\u001b[0m\u001b[0;34m(\u001b[0m\u001b[0mn\u001b[0m\u001b[0;34m,\u001b[0m \u001b[0mweight\u001b[0m\u001b[0;34m=\u001b[0m\u001b[0mweight\u001b[0m\u001b[0;34m)\u001b[0m \u001b[0;34m==\u001b[0m \u001b[0;36m0.0\u001b[0m\u001b[0;34m]\u001b[0m\u001b[0;34m\u001b[0m\u001b[0;34m\u001b[0m\u001b[0m\n\u001b[0m",
      "\u001b[0;31mAttributeError\u001b[0m: 'Graph' object has no attribute 'out_degree'"
     ]
    }
   ],
   "source": [
    "[n for n in G if G.out_degree(n, weight=weight) == 0.0]"
   ]
  },
  {
   "cell_type": "code",
   "execution_count": null,
   "metadata": {},
   "outputs": [],
   "source": []
  }
 ],
 "metadata": {
  "kernelspec": {
   "display_name": "Python 3",
   "language": "python",
   "name": "python3"
  },
  "language_info": {
   "codemirror_mode": {
    "name": "ipython",
    "version": 3
   },
   "file_extension": ".py",
   "mimetype": "text/x-python",
   "name": "python",
   "nbconvert_exporter": "python",
   "pygments_lexer": "ipython3",
   "version": "3.6.7"
  }
 },
 "nbformat": 4,
 "nbformat_minor": 4
}
